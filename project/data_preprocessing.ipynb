{
 "cells": [
  {
   "cell_type": "code",
   "execution_count": 19,
   "metadata": {},
   "outputs": [],
   "source": [
    "import pandas as pd\n",
    "import numpy as np\n",
    "from scipy import stats\n",
    "from scipy.optimize import curve_fit\n",
    "import matplotlib.pyplot as plt\n",
    "import seaborn as sns\n",
    "import os"
   ]
  },
  {
   "cell_type": "code",
   "execution_count": 20,
   "metadata": {},
   "outputs": [],
   "source": [
    "def price_plot(df, column_name, plot_trend = False):\n",
    "    price = df[\"Price\"]\n",
    "    data = df[column_name]\n",
    "    plt.plot(data,price, 'o')\n",
    "    plt.xlabel(column_name)\n",
    "    plt.ylabel(\"Price_PLN\")\n",
    "    if plot_trend:\n",
    "        z = np.polyfit(data, price, 1)\n",
    "        p = np.poly1d(z)\n",
    "        print(f\"Polyfit equation: {p}\")\n",
    "        plt.plot(data, p(data))"
   ]
  },
  {
   "cell_type": "markdown",
   "metadata": {},
   "source": [
    "# Loading data"
   ]
  },
  {
   "cell_type": "markdown",
   "metadata": {},
   "source": []
  },
  {
   "cell_type": "code",
   "execution_count": 21,
   "metadata": {},
   "outputs": [
    {
     "data": {
      "text/html": [
       "<div>\n",
       "<style scoped>\n",
       "    .dataframe tbody tr th:only-of-type {\n",
       "        vertical-align: middle;\n",
       "    }\n",
       "\n",
       "    .dataframe tbody tr th {\n",
       "        vertical-align: top;\n",
       "    }\n",
       "\n",
       "    .dataframe thead th {\n",
       "        text-align: right;\n",
       "    }\n",
       "</style>\n",
       "<table border=\"1\" class=\"dataframe\">\n",
       "  <thead>\n",
       "    <tr style=\"text-align: right;\">\n",
       "      <th></th>\n",
       "      <th>Index</th>\n",
       "      <th>Price</th>\n",
       "      <th>Currency</th>\n",
       "      <th>Condition</th>\n",
       "      <th>Vehicle_brand</th>\n",
       "      <th>Vehicle_model</th>\n",
       "      <th>Vehicle_version</th>\n",
       "      <th>Vehicle_generation</th>\n",
       "      <th>Production_year</th>\n",
       "      <th>Mileage_km</th>\n",
       "      <th>...</th>\n",
       "      <th>Transmission</th>\n",
       "      <th>Type</th>\n",
       "      <th>Doors_number</th>\n",
       "      <th>Colour</th>\n",
       "      <th>Origin_country</th>\n",
       "      <th>First_owner</th>\n",
       "      <th>First_registration_date</th>\n",
       "      <th>Offer_publication_date</th>\n",
       "      <th>Offer_location</th>\n",
       "      <th>Features</th>\n",
       "    </tr>\n",
       "  </thead>\n",
       "  <tbody>\n",
       "    <tr>\n",
       "      <th>0</th>\n",
       "      <td>0</td>\n",
       "      <td>86200</td>\n",
       "      <td>PLN</td>\n",
       "      <td>New</td>\n",
       "      <td>Abarth</td>\n",
       "      <td>595</td>\n",
       "      <td>NaN</td>\n",
       "      <td>NaN</td>\n",
       "      <td>2021</td>\n",
       "      <td>1.0</td>\n",
       "      <td>...</td>\n",
       "      <td>Manual</td>\n",
       "      <td>small_cars</td>\n",
       "      <td>3.0</td>\n",
       "      <td>gray</td>\n",
       "      <td>NaN</td>\n",
       "      <td>NaN</td>\n",
       "      <td>NaN</td>\n",
       "      <td>04/05/2021</td>\n",
       "      <td>ul. Jubilerska 6 - 04-190 Warszawa, Mazowiecki...</td>\n",
       "      <td>[]</td>\n",
       "    </tr>\n",
       "    <tr>\n",
       "      <th>1</th>\n",
       "      <td>1</td>\n",
       "      <td>43500</td>\n",
       "      <td>PLN</td>\n",
       "      <td>Used</td>\n",
       "      <td>Abarth</td>\n",
       "      <td>Other</td>\n",
       "      <td>NaN</td>\n",
       "      <td>NaN</td>\n",
       "      <td>1974</td>\n",
       "      <td>59000.0</td>\n",
       "      <td>...</td>\n",
       "      <td>Manual</td>\n",
       "      <td>coupe</td>\n",
       "      <td>2.0</td>\n",
       "      <td>silver</td>\n",
       "      <td>NaN</td>\n",
       "      <td>NaN</td>\n",
       "      <td>NaN</td>\n",
       "      <td>03/05/2021</td>\n",
       "      <td>kanonierska12 - 04-425 Warszawa, Rembertów (Po...</td>\n",
       "      <td>[]</td>\n",
       "    </tr>\n",
       "    <tr>\n",
       "      <th>2</th>\n",
       "      <td>2</td>\n",
       "      <td>44900</td>\n",
       "      <td>PLN</td>\n",
       "      <td>Used</td>\n",
       "      <td>Abarth</td>\n",
       "      <td>500</td>\n",
       "      <td>NaN</td>\n",
       "      <td>NaN</td>\n",
       "      <td>2018</td>\n",
       "      <td>52000.0</td>\n",
       "      <td>...</td>\n",
       "      <td>Automatic</td>\n",
       "      <td>small_cars</td>\n",
       "      <td>3.0</td>\n",
       "      <td>silver</td>\n",
       "      <td>NaN</td>\n",
       "      <td>NaN</td>\n",
       "      <td>NaN</td>\n",
       "      <td>03/05/2021</td>\n",
       "      <td>Warszawa, Mazowieckie, Białołęka</td>\n",
       "      <td>['ABS', 'Electric front windows', 'Drivers air...</td>\n",
       "    </tr>\n",
       "    <tr>\n",
       "      <th>3</th>\n",
       "      <td>3</td>\n",
       "      <td>39900</td>\n",
       "      <td>PLN</td>\n",
       "      <td>Used</td>\n",
       "      <td>Abarth</td>\n",
       "      <td>500</td>\n",
       "      <td>NaN</td>\n",
       "      <td>NaN</td>\n",
       "      <td>2012</td>\n",
       "      <td>29000.0</td>\n",
       "      <td>...</td>\n",
       "      <td>Manual</td>\n",
       "      <td>small_cars</td>\n",
       "      <td>3.0</td>\n",
       "      <td>gray</td>\n",
       "      <td>NaN</td>\n",
       "      <td>NaN</td>\n",
       "      <td>NaN</td>\n",
       "      <td>30/04/2021</td>\n",
       "      <td>Jaworzno, Śląskie</td>\n",
       "      <td>['ABS', 'Electric front windows', 'Drivers air...</td>\n",
       "    </tr>\n",
       "    <tr>\n",
       "      <th>4</th>\n",
       "      <td>4</td>\n",
       "      <td>97900</td>\n",
       "      <td>PLN</td>\n",
       "      <td>New</td>\n",
       "      <td>Abarth</td>\n",
       "      <td>595</td>\n",
       "      <td>NaN</td>\n",
       "      <td>NaN</td>\n",
       "      <td>2021</td>\n",
       "      <td>600.0</td>\n",
       "      <td>...</td>\n",
       "      <td>Manual</td>\n",
       "      <td>small_cars</td>\n",
       "      <td>3.0</td>\n",
       "      <td>blue</td>\n",
       "      <td>NaN</td>\n",
       "      <td>NaN</td>\n",
       "      <td>NaN</td>\n",
       "      <td>30/04/2021</td>\n",
       "      <td>ul. Gorzysława 9 - 61-057 Poznań, Nowe Miasto ...</td>\n",
       "      <td>['ABS', 'Electrically adjustable mirrors', 'Pa...</td>\n",
       "    </tr>\n",
       "  </tbody>\n",
       "</table>\n",
       "<p>5 rows × 25 columns</p>\n",
       "</div>"
      ],
      "text/plain": [
       "   Index  Price Currency Condition Vehicle_brand Vehicle_model  \\\n",
       "0      0  86200      PLN       New        Abarth           595   \n",
       "1      1  43500      PLN      Used        Abarth         Other   \n",
       "2      2  44900      PLN      Used        Abarth           500   \n",
       "3      3  39900      PLN      Used        Abarth           500   \n",
       "4      4  97900      PLN       New        Abarth           595   \n",
       "\n",
       "  Vehicle_version Vehicle_generation  Production_year  Mileage_km  ...  \\\n",
       "0             NaN                NaN             2021         1.0  ...   \n",
       "1             NaN                NaN             1974     59000.0  ...   \n",
       "2             NaN                NaN             2018     52000.0  ...   \n",
       "3             NaN                NaN             2012     29000.0  ...   \n",
       "4             NaN                NaN             2021       600.0  ...   \n",
       "\n",
       "   Transmission        Type Doors_number  Colour Origin_country First_owner  \\\n",
       "0        Manual  small_cars          3.0    gray            NaN         NaN   \n",
       "1        Manual       coupe          2.0  silver            NaN         NaN   \n",
       "2     Automatic  small_cars          3.0  silver            NaN         NaN   \n",
       "3        Manual  small_cars          3.0    gray            NaN         NaN   \n",
       "4        Manual  small_cars          3.0    blue            NaN         NaN   \n",
       "\n",
       "  First_registration_date  Offer_publication_date  \\\n",
       "0                     NaN              04/05/2021   \n",
       "1                     NaN              03/05/2021   \n",
       "2                     NaN              03/05/2021   \n",
       "3                     NaN              30/04/2021   \n",
       "4                     NaN              30/04/2021   \n",
       "\n",
       "                                      Offer_location  \\\n",
       "0  ul. Jubilerska 6 - 04-190 Warszawa, Mazowiecki...   \n",
       "1  kanonierska12 - 04-425 Warszawa, Rembertów (Po...   \n",
       "2                   Warszawa, Mazowieckie, Białołęka   \n",
       "3                                  Jaworzno, Śląskie   \n",
       "4  ul. Gorzysława 9 - 61-057 Poznań, Nowe Miasto ...   \n",
       "\n",
       "                                            Features  \n",
       "0                                                 []  \n",
       "1                                                 []  \n",
       "2  ['ABS', 'Electric front windows', 'Drivers air...  \n",
       "3  ['ABS', 'Electric front windows', 'Drivers air...  \n",
       "4  ['ABS', 'Electrically adjustable mirrors', 'Pa...  \n",
       "\n",
       "[5 rows x 25 columns]"
      ]
     },
     "execution_count": 21,
     "metadata": {},
     "output_type": "execute_result"
    }
   ],
   "source": [
    "df = pd.read_csv(\"data/Car_sale_ads.csv\")\n",
    "list(df.columns)\n",
    "df.head()"
   ]
  },
  {
   "cell_type": "markdown",
   "metadata": {},
   "source": [
    "**Context:**<br>\n",
    "This dataset was created by webscraping over 200,000 car offers from one of the largest car advertisement sites in Poland.<br>\n",
    "<br>\n",
    "\n",
    "**Content:**<br>\n",
    "The dataset contains 208,304 observations of 25 variables.<br>\n",
    "<br>\n",
    "\n",
    "**Variables describtion:**<br>\n",
    "ID - unique ID of offer <br>\n",
    "Price - value of the price <br>\n",
    "Currency - currency of the price (mostly polish złoty, but also some euro)<br>\n",
    "Condition - new or used<br>\n",
    "Vehicle_brand - brand of vehicle in offer<br>\n",
    "Vehicle_model - model of vehicle in offer<br>\n",
    "Vehicle_generation - generation of vehicle in offer<br>\n",
    "Vehicle_version - version of vehicle in offer<br>\n",
    "Production_year - year of car production<br>\n",
    "Mileage_km - total distance that the car has driven in kilometers<br>\n",
    "Power_HP - car engine power in horsepower<br>\n",
    "Displacement_cm3 - car engine size in cubic centimeters<br>\n",
    "Fuel_type - car fuel type<br>\n",
    "CO2_emissions - car CO2 emissions in g/km<br>\n",
    "Drive - type of car drive<br>\n",
    "Transmission - type of car transmission<br>\n",
    "Type - car body style<br>\n",
    "Doors_number - number of car doors<br>\n",
    "Colour - car body color<br>\n",
    "Origin_country - country of origin of the car<br>\n",
    "First_owner - whether the owner is the first owner<br>\n",
    "First_registration_date - date of first registration<br>\n",
    "Offer_publication_date - date of publication of the offer<br>\n",
    "Offer_location - address provided by the issuer<br>\n",
    "Features - listed car features (ABS, airbag, parking sensors e.t.c)<br>"
   ]
  },
  {
   "cell_type": "markdown",
   "metadata": {},
   "source": [
    "# Data preprocessing"
   ]
  },
  {
   "cell_type": "markdown",
   "metadata": {},
   "source": [
    "### Unification of the price currency and selection of the desired columns"
   ]
  },
  {
   "cell_type": "code",
   "execution_count": 22,
   "metadata": {},
   "outputs": [
    {
     "data": {
      "text/html": [
       "<div>\n",
       "<style scoped>\n",
       "    .dataframe tbody tr th:only-of-type {\n",
       "        vertical-align: middle;\n",
       "    }\n",
       "\n",
       "    .dataframe tbody tr th {\n",
       "        vertical-align: top;\n",
       "    }\n",
       "\n",
       "    .dataframe thead th {\n",
       "        text-align: right;\n",
       "    }\n",
       "</style>\n",
       "<table border=\"1\" class=\"dataframe\">\n",
       "  <thead>\n",
       "    <tr style=\"text-align: right;\">\n",
       "      <th></th>\n",
       "      <th>Price</th>\n",
       "      <th>Vehicle_brand</th>\n",
       "      <th>Vehicle_model</th>\n",
       "      <th>Production_year</th>\n",
       "      <th>Mileage_km</th>\n",
       "      <th>Power_HP</th>\n",
       "      <th>Displacement_cm3</th>\n",
       "    </tr>\n",
       "  </thead>\n",
       "  <tbody>\n",
       "    <tr>\n",
       "      <th>0</th>\n",
       "      <td>86200.0</td>\n",
       "      <td>Abarth</td>\n",
       "      <td>595</td>\n",
       "      <td>2021</td>\n",
       "      <td>1.0</td>\n",
       "      <td>145.0</td>\n",
       "      <td>1400.0</td>\n",
       "    </tr>\n",
       "    <tr>\n",
       "      <th>1</th>\n",
       "      <td>43500.0</td>\n",
       "      <td>Abarth</td>\n",
       "      <td>Other</td>\n",
       "      <td>1974</td>\n",
       "      <td>59000.0</td>\n",
       "      <td>75.0</td>\n",
       "      <td>1100.0</td>\n",
       "    </tr>\n",
       "    <tr>\n",
       "      <th>2</th>\n",
       "      <td>44900.0</td>\n",
       "      <td>Abarth</td>\n",
       "      <td>500</td>\n",
       "      <td>2018</td>\n",
       "      <td>52000.0</td>\n",
       "      <td>180.0</td>\n",
       "      <td>1368.0</td>\n",
       "    </tr>\n",
       "    <tr>\n",
       "      <th>3</th>\n",
       "      <td>39900.0</td>\n",
       "      <td>Abarth</td>\n",
       "      <td>500</td>\n",
       "      <td>2012</td>\n",
       "      <td>29000.0</td>\n",
       "      <td>160.0</td>\n",
       "      <td>1368.0</td>\n",
       "    </tr>\n",
       "    <tr>\n",
       "      <th>4</th>\n",
       "      <td>97900.0</td>\n",
       "      <td>Abarth</td>\n",
       "      <td>595</td>\n",
       "      <td>2021</td>\n",
       "      <td>600.0</td>\n",
       "      <td>165.0</td>\n",
       "      <td>1368.0</td>\n",
       "    </tr>\n",
       "  </tbody>\n",
       "</table>\n",
       "</div>"
      ],
      "text/plain": [
       "     Price Vehicle_brand Vehicle_model  Production_year  Mileage_km  Power_HP  \\\n",
       "0  86200.0        Abarth           595             2021         1.0     145.0   \n",
       "1  43500.0        Abarth         Other             1974     59000.0      75.0   \n",
       "2  44900.0        Abarth           500             2018     52000.0     180.0   \n",
       "3  39900.0        Abarth           500             2012     29000.0     160.0   \n",
       "4  97900.0        Abarth           595             2021       600.0     165.0   \n",
       "\n",
       "   Displacement_cm3  \n",
       "0            1400.0  \n",
       "1            1100.0  \n",
       "2            1368.0  \n",
       "3            1368.0  \n",
       "4            1368.0  "
      ]
     },
     "execution_count": 22,
     "metadata": {},
     "output_type": "execute_result"
    }
   ],
   "source": [
    "price = df[\"Price\"].copy()\n",
    "currency = df[\"Currency\"].copy()\n",
    "\n",
    "for idx, (p, c) in enumerate(zip(price, currency)):\n",
    "    if c == \"EUR\":\n",
    "        price_PLN = p * 4.6\n",
    "        price[idx] = price_PLN\n",
    "        currency[idx] = \"PLN\"\n",
    "\n",
    "\n",
    "df[\"Currency\"] = currency\n",
    "df[\"Price\"] = price\n",
    "\n",
    "cols2add = [\"Price\", \"Vehicle_brand\", \"Vehicle_model\", \"Production_year\", \"Mileage_km\", \"Power_HP\", \"Displacement_cm3\"]\n",
    "test_df = df[cols2add]\n",
    "test_df.head()"
   ]
  },
  {
   "cell_type": "markdown",
   "metadata": {},
   "source": [
    "Due to the extensive size of the dataset and the wide range of car models included, we have made the decision to conduct our analysis solely on a single car model.<br>\n",
    "***Chosen car model:***<br>\n",
    "**Brand:** Audi <br>\n",
    "**Model:** A3<br>"
   ]
  },
  {
   "cell_type": "code",
   "execution_count": 23,
   "metadata": {},
   "outputs": [],
   "source": [
    "audi_cars = test_df[test_df['Vehicle_brand'] == \"Audi\"]\n",
    "audi_a3_cars = audi_cars[audi_cars[\"Vehicle_model\"] == 'A3']"
   ]
  },
  {
   "cell_type": "code",
   "execution_count": 24,
   "metadata": {},
   "outputs": [
    {
     "data": {
      "image/png": "[encoded data removed]",
      "text/plain": [
       "<Figure size 432x288 with 1 Axes>"
      ]
     },
     "metadata": {
      "needs_background": "light"
     },
     "output_type": "display_data"
    }
   ],
   "source": [
    "price_plot(audi_a3_cars,\"Displacement_cm3\")"
   ]
  },
  {
   "cell_type": "code",
   "execution_count": 25,
   "metadata": {},
   "outputs": [
    {
     "data": {
      "image/png": "[encoded data removed]",
      "text/plain": [
       "<Figure size 432x288 with 1 Axes>"
      ]
     },
     "metadata": {
      "needs_background": "light"
     },
     "output_type": "display_data"
    }
   ],
   "source": [
    "price_plot(audi_a3_cars,\"Power_HP\")"
   ]
  },
  {
   "cell_type": "code",
   "execution_count": 26,
   "metadata": {},
   "outputs": [
    {
     "name": "stdout",
     "output_type": "stream",
     "text": [
      "Production_year     0.853472\n",
      "Mileage_km         -0.764658\n",
      "Power_HP            0.354174\n",
      "Displacement_cm3   -0.301169\n",
      "dtype: float64\n"
     ]
    }
   ],
   "source": [
    "correlations = audi_a3_cars.iloc[:, 1:].corrwith(audi_a3_cars['Price'])\n",
    "print(correlations)"
   ]
  },
  {
   "cell_type": "code",
   "execution_count": 27,
   "metadata": {},
   "outputs": [
    {
     "data": {
      "image/png": "[encoded data removed]",
      "text/plain": [
       "<Figure size 432x288 with 2 Axes>"
      ]
     },
     "metadata": {
      "needs_background": "light"
     },
     "output_type": "display_data"
    }
   ],
   "source": [
    "correlation_matrix = audi_a3_cars.corr()\n",
    "mask = np.triu(np.ones_like(correlation_matrix, dtype=bool))\n",
    "sns.heatmap(data=correlation_matrix, mask=mask, annot=True, cmap='RdYlBu')\n",
    "plt.title('Lower Triangular Correlation Matrix')\n",
    "plt.show()"
   ]
  },
  {
   "cell_type": "markdown",
   "metadata": {},
   "source": [
    "Due to small effect of engine power and displacement on the price of a vehicle, it was decided that only cars with a displacement of 2000ccm would be analysed to simplify analizis."
   ]
  },
  {
   "cell_type": "code",
   "execution_count": 28,
   "metadata": {},
   "outputs": [],
   "source": [
    "audi_a3_2010 = audi_a3_cars[audi_a3_cars[\"Production_year\"] == 2010]\n",
    "audi_a3_2000ccm = audi_a3_cars[audi_a3_cars[\"Displacement_cm3\"] >= 1950]\n",
    "audi_a3_2000ccm = audi_a3_2000ccm[audi_a3_2000ccm[\"Displacement_cm3\"] <= 2050]\n",
    "audi_a3_2000ccm = audi_a3_2000ccm.dropna()"
   ]
  },
  {
   "cell_type": "code",
   "execution_count": 29,
   "metadata": {},
   "outputs": [],
   "source": [
    "if \"audi_cars_data.csv\" not in os.listdir(\"data\"):\n",
    "    audi_a3_2000ccm.to_csv('data/audi_cars_data.csv', index=False)"
   ]
  },
  {
   "cell_type": "markdown",
   "metadata": {},
   "source": [
    "### Summary"
   ]
  },
  {
   "cell_type": "code",
   "execution_count": 30,
   "metadata": {},
   "outputs": [
    {
     "data": {
      "text/html": [
       "<div>\n",
       "<style scoped>\n",
       "    .dataframe tbody tr th:only-of-type {\n",
       "        vertical-align: middle;\n",
       "    }\n",
       "\n",
       "    .dataframe tbody tr th {\n",
       "        vertical-align: top;\n",
       "    }\n",
       "\n",
       "    .dataframe thead th {\n",
       "        text-align: right;\n",
       "    }\n",
       "</style>\n",
       "<table border=\"1\" class=\"dataframe\">\n",
       "  <thead>\n",
       "    <tr style=\"text-align: right;\">\n",
       "      <th></th>\n",
       "      <th>Price</th>\n",
       "      <th>Vehicle_brand</th>\n",
       "      <th>Vehicle_model</th>\n",
       "      <th>Production_year</th>\n",
       "      <th>Mileage_km</th>\n",
       "      <th>Power_HP</th>\n",
       "      <th>Displacement_cm3</th>\n",
       "    </tr>\n",
       "  </thead>\n",
       "  <tbody>\n",
       "    <tr>\n",
       "      <th>1929</th>\n",
       "      <td>49900.0</td>\n",
       "      <td>Audi</td>\n",
       "      <td>A3</td>\n",
       "      <td>2015</td>\n",
       "      <td>208000.0</td>\n",
       "      <td>150.0</td>\n",
       "      <td>1968.0</td>\n",
       "    </tr>\n",
       "    <tr>\n",
       "      <th>1932</th>\n",
       "      <td>13900.0</td>\n",
       "      <td>Audi</td>\n",
       "      <td>A3</td>\n",
       "      <td>2008</td>\n",
       "      <td>227000.0</td>\n",
       "      <td>140.0</td>\n",
       "      <td>1968.0</td>\n",
       "    </tr>\n",
       "    <tr>\n",
       "      <th>1933</th>\n",
       "      <td>21900.0</td>\n",
       "      <td>Audi</td>\n",
       "      <td>A3</td>\n",
       "      <td>2008</td>\n",
       "      <td>313855.0</td>\n",
       "      <td>140.0</td>\n",
       "      <td>1968.0</td>\n",
       "    </tr>\n",
       "    <tr>\n",
       "      <th>1934</th>\n",
       "      <td>19900.0</td>\n",
       "      <td>Audi</td>\n",
       "      <td>A3</td>\n",
       "      <td>2007</td>\n",
       "      <td>242000.0</td>\n",
       "      <td>170.0</td>\n",
       "      <td>1968.0</td>\n",
       "    </tr>\n",
       "    <tr>\n",
       "      <th>1936</th>\n",
       "      <td>22900.0</td>\n",
       "      <td>Audi</td>\n",
       "      <td>A3</td>\n",
       "      <td>2006</td>\n",
       "      <td>240000.0</td>\n",
       "      <td>200.0</td>\n",
       "      <td>1984.0</td>\n",
       "    </tr>\n",
       "  </tbody>\n",
       "</table>\n",
       "</div>"
      ],
      "text/plain": [
       "        Price Vehicle_brand Vehicle_model  Production_year  Mileage_km  \\\n",
       "1929  49900.0          Audi            A3             2015    208000.0   \n",
       "1932  13900.0          Audi            A3             2008    227000.0   \n",
       "1933  21900.0          Audi            A3             2008    313855.0   \n",
       "1934  19900.0          Audi            A3             2007    242000.0   \n",
       "1936  22900.0          Audi            A3             2006    240000.0   \n",
       "\n",
       "      Power_HP  Displacement_cm3  \n",
       "1929     150.0            1968.0  \n",
       "1932     140.0            1968.0  \n",
       "1933     140.0            1968.0  \n",
       "1934     170.0            1968.0  \n",
       "1936     200.0            1984.0  "
      ]
     },
     "execution_count": 30,
     "metadata": {},
     "output_type": "execute_result"
    }
   ],
   "source": [
    "audi_a3_2000ccm.head()"
   ]
  },
  {
   "cell_type": "code",
   "execution_count": 31,
   "metadata": {},
   "outputs": [
    {
     "name": "stdout",
     "output_type": "stream",
     "text": [
      "Polyfit equation:  \n",
      "4988 x - 9.99e+06\n"
     ]
    },
    {
     "data": {
      "image/png": "[encoded data removed]",
      "text/plain": [
       "<Figure size 432x288 with 1 Axes>"
      ]
     },
     "metadata": {
      "needs_background": "light"
     },
     "output_type": "display_data"
    }
   ],
   "source": [
    "price_plot(audi_a3_2000ccm, \"Production_year\", True)"
   ]
  },
  {
   "cell_type": "code",
   "execution_count": 32,
   "metadata": {},
   "outputs": [
    {
     "name": "stdout",
     "output_type": "stream",
     "text": [
      "Polyfit equation:  \n",
      "-0.2344 x + 8.109e+04\n"
     ]
    },
    {
     "data": {
      "image/png": "[encoded data removed]",
      "text/plain": [
       "<Figure size 432x288 with 1 Axes>"
      ]
     },
     "metadata": {
      "needs_background": "light"
     },
     "output_type": "display_data"
    }
   ],
   "source": [
    "price_plot(audi_a3_2000ccm, \"Mileage_km\", True)"
   ]
  },
  {
   "cell_type": "code",
   "execution_count": 37,
   "metadata": {},
   "outputs": [
    {
     "name": "stdout",
     "output_type": "stream",
     "text": [
      "Polyfit equation:  \n",
      "487.6 x - 4.072e+04\n"
     ]
    },
    {
     "data": {
      "image/png": "[encoded data removed]",
      "text/plain": [
       "<Figure size 432x288 with 1 Axes>"
      ]
     },
     "metadata": {
      "needs_background": "light"
     },
     "output_type": "display_data"
    }
   ],
   "source": [
    "price_plot(audi_a3_2000ccm, \"Power_HP\", True)"
   ]
  },
  {
   "cell_type": "code",
   "execution_count": 33,
   "metadata": {},
   "outputs": [
    {
     "name": "stdout",
     "output_type": "stream",
     "text": [
      "Mean: 198361.37403598972\n"
     ]
    },
    {
     "data": {
      "image/png": "[encoded data removed]",
      "text/plain": [
       "<Figure size 432x288 with 1 Axes>"
      ]
     },
     "metadata": {
      "needs_background": "light"
     },
     "output_type": "display_data"
    }
   ],
   "source": [
    "mileage_mean = np.mean(audi_a3_2000ccm[\"Mileage_km\"])\n",
    "print(f\"Mean: {mileage_mean}\")\n",
    "plt.figure()\n",
    "plt.hist(audi_a3_2000ccm[\"Mileage_km\"], bins = 25)\n",
    "plt.axvline(mileage_mean, color=\"red\")\n",
    "plt.xlabel(\"Mileage_km\")\n",
    "plt.ylabel(\"Occurrences\")\n",
    "plt.title(\"Histogram of car mileages\")\n",
    "plt.show()"
   ]
  },
  {
   "cell_type": "code",
   "execution_count": 34,
   "metadata": {},
   "outputs": [
    {
     "name": "stdout",
     "output_type": "stream",
     "text": [
      "Mean: 2009.5719794344473\n"
     ]
    },
    {
     "data": {
      "image/png": "[encoded data removed]",
      "text/plain": [
       "<Figure size 432x288 with 1 Axes>"
      ]
     },
     "metadata": {
      "needs_background": "light"
     },
     "output_type": "display_data"
    }
   ],
   "source": [
    "prod_mean = np.mean(audi_a3_2000ccm[\"Production_year\"])\n",
    "print(f\"Mean: {prod_mean}\")\n",
    "plt.figure()\n",
    "plt.hist(audi_a3_2000ccm[\"Production_year\"], bins = 18)\n",
    "plt.axvline(prod_mean, color=\"red\")\n",
    "plt.xlabel(\"Production year\")\n",
    "plt.ylabel(\"Occurrences\")\n",
    "plt.title(\"Histogram of car production years\")\n",
    "plt.show()"
   ]
  },
  {
   "cell_type": "code",
   "execution_count": 35,
   "metadata": {},
   "outputs": [
    {
     "name": "stdout",
     "output_type": "stream",
     "text": [
      "Mean: 34600.235218509\n"
     ]
    },
    {
     "data": {
      "image/png": "[encoded data removed]",
      "text/plain": [
       "<Figure size 432x288 with 1 Axes>"
      ]
     },
     "metadata": {
      "needs_background": "light"
     },
     "output_type": "display_data"
    }
   ],
   "source": [
    "price_mean = np.mean(audi_a3_2000ccm[\"Price\"])\n",
    "print(f\"Mean: {price_mean}\")\n",
    "plt.figure()\n",
    "plt.hist(audi_a3_2000ccm[\"Price\"], bins = 25)\n",
    "plt.axvline(price_mean, color=\"red\")\n",
    "plt.xlabel(\"Price\")\n",
    "plt.ylabel(\"Occurrences\")\n",
    "plt.title(\"Histogram of cars price\")\n",
    "plt.show()"
   ]
  }
 ],
 "metadata": {
  "kernelspec": {
   "display_name": "Python 3",
   "language": "python",
   "name": "python3"
  },
  "language_info": {
   "codemirror_mode": {
    "name": "ipython",
    "version": 3
   },
   "file_extension": ".py",
   "mimetype": "text/x-python",
   "name": "python",
   "nbconvert_exporter": "python",
   "pygments_lexer": "ipython3",
   "version": "3.9.11"
  },
  "orig_nbformat": 4
 },
 "nbformat": 4,
 "nbformat_minor": 2
}
