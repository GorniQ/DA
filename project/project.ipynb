{
 "cells": [
  {
   "cell_type": "code",
   "execution_count": 1,
   "metadata": {},
   "outputs": [],
   "source": [
    "import pandas as pd\n",
    "import numpy as np\n",
    "from scipy import stats\n",
    "from scipy.optimize import curve_fit\n",
    "from scipy.stats import poisson\n"
   ]
  },
  {
   "cell_type": "code",
   "execution_count": 4,
   "metadata": {},
   "outputs": [
    {
     "data": {
      "text/html": [
       "<div>\n",
       "<style scoped>\n",
       "    .dataframe tbody tr th:only-of-type {\n",
       "        vertical-align: middle;\n",
       "    }\n",
       "\n",
       "    .dataframe tbody tr th {\n",
       "        vertical-align: top;\n",
       "    }\n",
       "\n",
       "    .dataframe thead th {\n",
       "        text-align: right;\n",
       "    }\n",
       "</style>\n",
       "<table border=\"1\" class=\"dataframe\">\n",
       "  <thead>\n",
       "    <tr style=\"text-align: right;\">\n",
       "      <th></th>\n",
       "      <th>Index</th>\n",
       "      <th>Price</th>\n",
       "      <th>Currency</th>\n",
       "      <th>Condition</th>\n",
       "      <th>Vehicle_brand</th>\n",
       "      <th>Vehicle_model</th>\n",
       "      <th>Vehicle_version</th>\n",
       "      <th>Vehicle_generation</th>\n",
       "      <th>Production_year</th>\n",
       "      <th>Mileage_km</th>\n",
       "      <th>...</th>\n",
       "      <th>Transmission</th>\n",
       "      <th>Type</th>\n",
       "      <th>Doors_number</th>\n",
       "      <th>Colour</th>\n",
       "      <th>Origin_country</th>\n",
       "      <th>First_owner</th>\n",
       "      <th>First_registration_date</th>\n",
       "      <th>Offer_publication_date</th>\n",
       "      <th>Offer_location</th>\n",
       "      <th>Features</th>\n",
       "    </tr>\n",
       "  </thead>\n",
       "  <tbody>\n",
       "    <tr>\n",
       "      <th>0</th>\n",
       "      <td>0</td>\n",
       "      <td>86200</td>\n",
       "      <td>PLN</td>\n",
       "      <td>New</td>\n",
       "      <td>Abarth</td>\n",
       "      <td>595</td>\n",
       "      <td>NaN</td>\n",
       "      <td>NaN</td>\n",
       "      <td>2021</td>\n",
       "      <td>1.0</td>\n",
       "      <td>...</td>\n",
       "      <td>Manual</td>\n",
       "      <td>small_cars</td>\n",
       "      <td>3.0</td>\n",
       "      <td>gray</td>\n",
       "      <td>NaN</td>\n",
       "      <td>NaN</td>\n",
       "      <td>NaN</td>\n",
       "      <td>04/05/2021</td>\n",
       "      <td>ul. Jubilerska 6 - 04-190 Warszawa, Mazowiecki...</td>\n",
       "      <td>[]</td>\n",
       "    </tr>\n",
       "    <tr>\n",
       "      <th>1</th>\n",
       "      <td>1</td>\n",
       "      <td>43500</td>\n",
       "      <td>PLN</td>\n",
       "      <td>Used</td>\n",
       "      <td>Abarth</td>\n",
       "      <td>Other</td>\n",
       "      <td>NaN</td>\n",
       "      <td>NaN</td>\n",
       "      <td>1974</td>\n",
       "      <td>59000.0</td>\n",
       "      <td>...</td>\n",
       "      <td>Manual</td>\n",
       "      <td>coupe</td>\n",
       "      <td>2.0</td>\n",
       "      <td>silver</td>\n",
       "      <td>NaN</td>\n",
       "      <td>NaN</td>\n",
       "      <td>NaN</td>\n",
       "      <td>03/05/2021</td>\n",
       "      <td>kanonierska12 - 04-425 Warszawa, Rembertów (Po...</td>\n",
       "      <td>[]</td>\n",
       "    </tr>\n",
       "    <tr>\n",
       "      <th>2</th>\n",
       "      <td>2</td>\n",
       "      <td>44900</td>\n",
       "      <td>PLN</td>\n",
       "      <td>Used</td>\n",
       "      <td>Abarth</td>\n",
       "      <td>500</td>\n",
       "      <td>NaN</td>\n",
       "      <td>NaN</td>\n",
       "      <td>2018</td>\n",
       "      <td>52000.0</td>\n",
       "      <td>...</td>\n",
       "      <td>Automatic</td>\n",
       "      <td>small_cars</td>\n",
       "      <td>3.0</td>\n",
       "      <td>silver</td>\n",
       "      <td>NaN</td>\n",
       "      <td>NaN</td>\n",
       "      <td>NaN</td>\n",
       "      <td>03/05/2021</td>\n",
       "      <td>Warszawa, Mazowieckie, Białołęka</td>\n",
       "      <td>['ABS', 'Electric front windows', 'Drivers air...</td>\n",
       "    </tr>\n",
       "    <tr>\n",
       "      <th>3</th>\n",
       "      <td>3</td>\n",
       "      <td>39900</td>\n",
       "      <td>PLN</td>\n",
       "      <td>Used</td>\n",
       "      <td>Abarth</td>\n",
       "      <td>500</td>\n",
       "      <td>NaN</td>\n",
       "      <td>NaN</td>\n",
       "      <td>2012</td>\n",
       "      <td>29000.0</td>\n",
       "      <td>...</td>\n",
       "      <td>Manual</td>\n",
       "      <td>small_cars</td>\n",
       "      <td>3.0</td>\n",
       "      <td>gray</td>\n",
       "      <td>NaN</td>\n",
       "      <td>NaN</td>\n",
       "      <td>NaN</td>\n",
       "      <td>30/04/2021</td>\n",
       "      <td>Jaworzno, Śląskie</td>\n",
       "      <td>['ABS', 'Electric front windows', 'Drivers air...</td>\n",
       "    </tr>\n",
       "    <tr>\n",
       "      <th>4</th>\n",
       "      <td>4</td>\n",
       "      <td>97900</td>\n",
       "      <td>PLN</td>\n",
       "      <td>New</td>\n",
       "      <td>Abarth</td>\n",
       "      <td>595</td>\n",
       "      <td>NaN</td>\n",
       "      <td>NaN</td>\n",
       "      <td>2021</td>\n",
       "      <td>600.0</td>\n",
       "      <td>...</td>\n",
       "      <td>Manual</td>\n",
       "      <td>small_cars</td>\n",
       "      <td>3.0</td>\n",
       "      <td>blue</td>\n",
       "      <td>NaN</td>\n",
       "      <td>NaN</td>\n",
       "      <td>NaN</td>\n",
       "      <td>30/04/2021</td>\n",
       "      <td>ul. Gorzysława 9 - 61-057 Poznań, Nowe Miasto ...</td>\n",
       "      <td>['ABS', 'Electrically adjustable mirrors', 'Pa...</td>\n",
       "    </tr>\n",
       "  </tbody>\n",
       "</table>\n",
       "<p>5 rows × 25 columns</p>\n",
       "</div>"
      ],
      "text/plain": [
       "   Index  Price Currency Condition Vehicle_brand Vehicle_model  \\\n",
       "0      0  86200      PLN       New        Abarth           595   \n",
       "1      1  43500      PLN      Used        Abarth         Other   \n",
       "2      2  44900      PLN      Used        Abarth           500   \n",
       "3      3  39900      PLN      Used        Abarth           500   \n",
       "4      4  97900      PLN       New        Abarth           595   \n",
       "\n",
       "  Vehicle_version Vehicle_generation  Production_year  Mileage_km  ...  \\\n",
       "0             NaN                NaN             2021         1.0  ...   \n",
       "1             NaN                NaN             1974     59000.0  ...   \n",
       "2             NaN                NaN             2018     52000.0  ...   \n",
       "3             NaN                NaN             2012     29000.0  ...   \n",
       "4             NaN                NaN             2021       600.0  ...   \n",
       "\n",
       "   Transmission        Type Doors_number  Colour Origin_country First_owner  \\\n",
       "0        Manual  small_cars          3.0    gray            NaN         NaN   \n",
       "1        Manual       coupe          2.0  silver            NaN         NaN   \n",
       "2     Automatic  small_cars          3.0  silver            NaN         NaN   \n",
       "3        Manual  small_cars          3.0    gray            NaN         NaN   \n",
       "4        Manual  small_cars          3.0    blue            NaN         NaN   \n",
       "\n",
       "  First_registration_date  Offer_publication_date  \\\n",
       "0                     NaN              04/05/2021   \n",
       "1                     NaN              03/05/2021   \n",
       "2                     NaN              03/05/2021   \n",
       "3                     NaN              30/04/2021   \n",
       "4                     NaN              30/04/2021   \n",
       "\n",
       "                                      Offer_location  \\\n",
       "0  ul. Jubilerska 6 - 04-190 Warszawa, Mazowiecki...   \n",
       "1  kanonierska12 - 04-425 Warszawa, Rembertów (Po...   \n",
       "2                   Warszawa, Mazowieckie, Białołęka   \n",
       "3                                  Jaworzno, Śląskie   \n",
       "4  ul. Gorzysława 9 - 61-057 Poznań, Nowe Miasto ...   \n",
       "\n",
       "                                            Features  \n",
       "0                                                 []  \n",
       "1                                                 []  \n",
       "2  ['ABS', 'Electric front windows', 'Drivers air...  \n",
       "3  ['ABS', 'Electric front windows', 'Drivers air...  \n",
       "4  ['ABS', 'Electrically adjustable mirrors', 'Pa...  \n",
       "\n",
       "[5 rows x 25 columns]"
      ]
     },
     "execution_count": 4,
     "metadata": {},
     "output_type": "execute_result"
    }
   ],
   "source": [
    "df = pd.read_csv(\"data/Car_sale_ads.csv\")\n",
    "list(df.columns)\n",
    "df.head()"
   ]
  },
  {
   "cell_type": "code",
   "execution_count": 6,
   "metadata": {},
   "outputs": [],
   "source": [
    "price = df[\"Price\"].copy()\n",
    "currency = df[\"Currency\"].copy()\n",
    "\n",
    "for idx, (p, c) in enumerate(zip(price, currency)):\n",
    "    if c == \"EUR\":\n",
    "        price_PLN = p * 4.6\n",
    "        price[idx] = price_PLN\n",
    "        currency[idx] = \"PLN\"\n",
    "\n",
    "\n",
    "df[\"Currency\"] = currency\n",
    "df[\"Price\"] = price\n",
    "\n",
    "\n",
    "cols2add = [\"Price\", \"Condition\", \"Vehicle_brand\", \"Vehicle_model\", \"Vehicle_version\",\"Vehicle_generation\", \"Production_year\", \"Mileage_km\", \"Power_HP\", \"Displacement_cm3\", \"Fuel_type\"]\n",
    "test_df = df[cols2add]"
   ]
  },
  {
   "cell_type": "code",
   "execution_count": 7,
   "metadata": {},
   "outputs": [
    {
     "data": {
      "text/html": [
       "<div>\n",
       "<style scoped>\n",
       "    .dataframe tbody tr th:only-of-type {\n",
       "        vertical-align: middle;\n",
       "    }\n",
       "\n",
       "    .dataframe tbody tr th {\n",
       "        vertical-align: top;\n",
       "    }\n",
       "\n",
       "    .dataframe thead th {\n",
       "        text-align: right;\n",
       "    }\n",
       "</style>\n",
       "<table border=\"1\" class=\"dataframe\">\n",
       "  <thead>\n",
       "    <tr style=\"text-align: right;\">\n",
       "      <th></th>\n",
       "      <th>Price</th>\n",
       "      <th>Condition</th>\n",
       "      <th>Vehicle_brand</th>\n",
       "      <th>Vehicle_model</th>\n",
       "      <th>Vehicle_version</th>\n",
       "      <th>Vehicle_generation</th>\n",
       "      <th>Production_year</th>\n",
       "      <th>Mileage_km</th>\n",
       "      <th>Power_HP</th>\n",
       "      <th>Displacement_cm3</th>\n",
       "      <th>Fuel_type</th>\n",
       "    </tr>\n",
       "  </thead>\n",
       "  <tbody>\n",
       "    <tr>\n",
       "      <th>0</th>\n",
       "      <td>86200.0</td>\n",
       "      <td>New</td>\n",
       "      <td>Abarth</td>\n",
       "      <td>595</td>\n",
       "      <td>NaN</td>\n",
       "      <td>NaN</td>\n",
       "      <td>2021</td>\n",
       "      <td>1.0</td>\n",
       "      <td>145.0</td>\n",
       "      <td>1400.0</td>\n",
       "      <td>Gasoline</td>\n",
       "    </tr>\n",
       "    <tr>\n",
       "      <th>1</th>\n",
       "      <td>43500.0</td>\n",
       "      <td>Used</td>\n",
       "      <td>Abarth</td>\n",
       "      <td>Other</td>\n",
       "      <td>NaN</td>\n",
       "      <td>NaN</td>\n",
       "      <td>1974</td>\n",
       "      <td>59000.0</td>\n",
       "      <td>75.0</td>\n",
       "      <td>1100.0</td>\n",
       "      <td>Gasoline</td>\n",
       "    </tr>\n",
       "    <tr>\n",
       "      <th>2</th>\n",
       "      <td>44900.0</td>\n",
       "      <td>Used</td>\n",
       "      <td>Abarth</td>\n",
       "      <td>500</td>\n",
       "      <td>NaN</td>\n",
       "      <td>NaN</td>\n",
       "      <td>2018</td>\n",
       "      <td>52000.0</td>\n",
       "      <td>180.0</td>\n",
       "      <td>1368.0</td>\n",
       "      <td>Gasoline</td>\n",
       "    </tr>\n",
       "    <tr>\n",
       "      <th>3</th>\n",
       "      <td>39900.0</td>\n",
       "      <td>Used</td>\n",
       "      <td>Abarth</td>\n",
       "      <td>500</td>\n",
       "      <td>NaN</td>\n",
       "      <td>NaN</td>\n",
       "      <td>2012</td>\n",
       "      <td>29000.0</td>\n",
       "      <td>160.0</td>\n",
       "      <td>1368.0</td>\n",
       "      <td>Gasoline</td>\n",
       "    </tr>\n",
       "    <tr>\n",
       "      <th>4</th>\n",
       "      <td>97900.0</td>\n",
       "      <td>New</td>\n",
       "      <td>Abarth</td>\n",
       "      <td>595</td>\n",
       "      <td>NaN</td>\n",
       "      <td>NaN</td>\n",
       "      <td>2021</td>\n",
       "      <td>600.0</td>\n",
       "      <td>165.0</td>\n",
       "      <td>1368.0</td>\n",
       "      <td>Gasoline</td>\n",
       "    </tr>\n",
       "  </tbody>\n",
       "</table>\n",
       "</div>"
      ],
      "text/plain": [
       "     Price Condition Vehicle_brand Vehicle_model Vehicle_version  \\\n",
       "0  86200.0       New        Abarth           595             NaN   \n",
       "1  43500.0      Used        Abarth         Other             NaN   \n",
       "2  44900.0      Used        Abarth           500             NaN   \n",
       "3  39900.0      Used        Abarth           500             NaN   \n",
       "4  97900.0       New        Abarth           595             NaN   \n",
       "\n",
       "  Vehicle_generation  Production_year  Mileage_km  Power_HP  Displacement_cm3  \\\n",
       "0                NaN             2021         1.0     145.0            1400.0   \n",
       "1                NaN             1974     59000.0      75.0            1100.0   \n",
       "2                NaN             2018     52000.0     180.0            1368.0   \n",
       "3                NaN             2012     29000.0     160.0            1368.0   \n",
       "4                NaN             2021       600.0     165.0            1368.0   \n",
       "\n",
       "  Fuel_type  \n",
       "0  Gasoline  \n",
       "1  Gasoline  \n",
       "2  Gasoline  \n",
       "3  Gasoline  \n",
       "4  Gasoline  "
      ]
     },
     "execution_count": 7,
     "metadata": {},
     "output_type": "execute_result"
    }
   ],
   "source": [
    "test_df.head()"
   ]
  },
  {
   "cell_type": "code",
   "execution_count": 8,
   "metadata": {},
   "outputs": [],
   "source": [
    "audi_cars = test_df[test_df['Vehicle_brand'] == \"Audi\"]\n",
    "audi_a3_cars = audi_cars[audi_cars[\"Vehicle_model\"] == 'A3']\n",
    "audi_a3_2010 = audi_a3_cars[audi_a3_cars[\"Production_year\"] == 2010]\n",
    "audi_a3_2000ccm = audi_a3_cars[audi_a3_cars[\"Displacement_cm3\"] >= 1950]\n",
    "audi_a3_2000ccm = audi_a3_2000ccm[audi_a3_2000ccm[\"Displacement_cm3\"] <= 2050]\n",
    "audi_a3_2000ccm = audi_a3_2000ccm.dropna()"
   ]
  },
  {
   "cell_type": "code",
   "execution_count": 9,
   "metadata": {},
   "outputs": [],
   "source": [
    "import matplotlib.pyplot as plt\n",
    "def price_plot(df, column_name):\n",
    "    price = df[\"Price\"]\n",
    "    data = df[column_name]\n",
    "    plt.plot(data,price, 'o')\n",
    "    plt.xlabel(column_name)\n",
    "    plt.ylabel(\"Price_PLN\")\n",
    "    # z = np.polyfit(data, price, 1)\n",
    "    # p = np.poly1d(z)\n",
    "    # print(p)\n",
    "    # plt.plot(data, p(data))\n",
    "\n",
    "def plot_mean(df, column_name, round_it=False):\n",
    "    if round_it:\n",
    "        df = df.round(-1)\n",
    "    mean_values = df.groupby(column_name)['Price'].mean()\n",
    "\n",
    "    # Plotting the mean values\n",
    "    mean_values.plot()\n",
    "\n",
    "    # Adding labels and title to the plot\n",
    "    plt.xlabel(column_name)\n",
    "    plt.ylabel('Price_PLN')\n",
    "    plt.title(\"Mean price of car by category\")\n",
    "\n",
    "#price_plot(audi_a3_cars, \"Mileage_km\")"
   ]
  },
  {
   "cell_type": "code",
   "execution_count": 10,
   "metadata": {},
   "outputs": [
    {
     "data": {
      "image/png": "[encoded data removed]",
      "text/plain": [
       "<Figure size 432x288 with 1 Axes>"
      ]
     },
     "metadata": {
      "needs_background": "light"
     },
     "output_type": "display_data"
    }
   ],
   "source": [
    "price_plot(audi_a3_cars,\"Production_year\")"
   ]
  },
  {
   "cell_type": "code",
   "execution_count": 23,
   "metadata": {},
   "outputs": [
    {
     "data": {
      "image/png": "[encoded data removed]",
      "text/plain": [
       "<Figure size 432x288 with 1 Axes>"
      ]
     },
     "metadata": {
      "needs_background": "light"
     },
     "output_type": "display_data"
    }
   ],
   "source": [
    "price_plot(audi_a3_cars, \"Displacement_cm3\")"
   ]
  },
  {
   "cell_type": "code",
   "execution_count": 24,
   "metadata": {},
   "outputs": [
    {
     "data": {
      "image/png": "[encoded data removed]",
      "text/plain": [
       "<Figure size 432x288 with 1 Axes>"
      ]
     },
     "metadata": {
      "needs_background": "light"
     },
     "output_type": "display_data"
    }
   ],
   "source": [
    "plot_mean(audi_a3_2010, \"Displacement_cm3\")"
   ]
  },
  {
   "cell_type": "code",
   "execution_count": 25,
   "metadata": {},
   "outputs": [
    {
     "data": {
      "image/png": "[encoded data removed]",
      "text/plain": [
       "<Figure size 432x288 with 1 Axes>"
      ]
     },
     "metadata": {
      "needs_background": "light"
     },
     "output_type": "display_data"
    }
   ],
   "source": [
    "plot_mean(audi_a3_cars, \"Displacement_cm3\")"
   ]
  },
  {
   "cell_type": "code",
   "execution_count": 26,
   "metadata": {},
   "outputs": [
    {
     "data": {
      "image/png": "[encoded data removed]",
      "text/plain": [
       "<Figure size 432x288 with 1 Axes>"
      ]
     },
     "metadata": {
      "needs_background": "light"
     },
     "output_type": "display_data"
    }
   ],
   "source": [
    "plot_mean(audi_a3_2000ccm, \"Production_year\")"
   ]
  },
  {
   "cell_type": "code",
   "execution_count": 27,
   "metadata": {},
   "outputs": [
    {
     "data": {
      "image/png": "[encoded data removed]",
      "text/plain": [
       "<Figure size 432x288 with 1 Axes>"
      ]
     },
     "metadata": {
      "needs_background": "light"
     },
     "output_type": "display_data"
    }
   ],
   "source": [
    "price_plot(audi_a3_2000ccm, \"Mileage_km\")\n"
   ]
  },
  {
   "cell_type": "code",
   "execution_count": 45,
   "metadata": {},
   "outputs": [
    {
     "data": {
      "image/png": "[encoded data removed]",
      "text/plain": [
       "<Figure size 432x288 with 1 Axes>"
      ]
     },
     "metadata": {
      "needs_background": "light"
     },
     "output_type": "display_data"
    }
   ],
   "source": [
    "import numpy as np\n",
    "import matplotlib.pyplot as plt\n",
    "from scipy.optimize import curve_fit\n",
    "from scipy.stats import poisson\n",
    "\n",
    "# Get the data from the histogram\n",
    "data = audi_a3_2000ccm['Price'].values\n",
    "\n",
    "# Compute the histogram\n",
    "hist, bins = np.histogram(data, bins=20, density=True)\n",
    "\n",
    "# Calculate the bin centers\n",
    "bin_centers = (bins[:-1] + bins[1:]) / 2\n",
    "\n",
    "# Define the Poisson distribution function\n",
    "def poisson_distribution(x, lambda_):\n",
    "    return poisson.pmf(x, lambda_)\n",
    "\n",
    "# Fit the Poisson distribution\n",
    "popt, _ = curve_fit(poisson_distribution, bin_centers, hist, p0=[np.mean(data)])\n",
    "\n",
    "# Generate the fitted curve\n",
    "x_values = np.arange(min(data), max(data)+1)\n",
    "y_values = poisson_distribution(x_values, *popt)\n",
    "\n",
    "# Plot the histogram and fitted curve\n",
    "plt.figure()\n",
    "plt.hist(data, bins=20, density=True, alpha=0.5, label='Data')\n",
    "plt.plot(x_values, y_values, 'r-', label='Poisson Fit')\n",
    "\n",
    "# Display the plot\n",
    "plt.xlabel('Price')\n",
    "plt.ylabel('Probability')\n",
    "plt.legend()\n",
    "plt.show()\n",
    "\n"
   ]
  },
  {
   "cell_type": "code",
   "execution_count": 37,
   "metadata": {},
   "outputs": [
    {
     "name": "stderr",
     "output_type": "stream",
     "text": [
      "INFO:cmdstanpy:compiling stan file /home/DA/project/test.stan to exe file /home/DA/project/test\n",
      "INFO:cmdstanpy:compiled model executable: /home/DA/project/test\n"
     ]
    }
   ],
   "source": [
    "import pandas as pd\n",
    "import cmdstanpy\n",
    "\n",
    "\n",
    "model = cmdstanpy.CmdStanModel(stan_file='test.stan')"
   ]
  },
  {
   "cell_type": "code",
   "execution_count": 38,
   "metadata": {},
   "outputs": [
    {
     "name": "stderr",
     "output_type": "stream",
     "text": [
      "INFO:cmdstanpy:CmdStan start processing\n",
      "chain 1 |\u001b[33m          \u001b[0m| 00:00 Status\n",
      "\u001b[A\n",
      "\n",
      "\u001b[A\u001b[A\n",
      "chain 1 |\u001b[34m███▎      \u001b[0m| 00:00 Status\n",
      "\n",
      "chain 1 |\u001b[34m██████████\u001b[0m| 00:00 Sampling completed\n",
      "chain 2 |\u001b[34m██████████\u001b[0m| 00:00 Sampling completed\n",
      "chain 3 |\u001b[34m██████████\u001b[0m| 00:00 Sampling completed\n",
      "chain 4 |\u001b[34m██████████\u001b[0m| 00:00 Sampling completed"
     ]
    },
    {
     "name": "stdout",
     "output_type": "stream",
     "text": [
      "                                                                                                                                                                                                                                                                                                                                "
     ]
    },
    {
     "name": "stderr",
     "output_type": "stream",
     "text": [
      "\n",
      "INFO:cmdstanpy:CmdStan done processing.\n"
     ]
    },
    {
     "name": "stdout",
     "output_type": "stream",
     "text": [
      "\n"
     ]
    }
   ],
   "source": [
    "R = 1000\n",
    "sim=model.sample(iter_sampling=R,\n",
    "                     iter_warmup=0,\n",
    "                     chains=4,\n",
    "                     fixed_param=True,\n",
    "                     seed=29042020,refresh=R)"
   ]
  },
  {
   "cell_type": "code",
   "execution_count": 39,
   "metadata": {},
   "outputs": [
    {
     "data": {
      "text/html": [
       "<div>\n",
       "<style scoped>\n",
       "    .dataframe tbody tr th:only-of-type {\n",
       "        vertical-align: middle;\n",
       "    }\n",
       "\n",
       "    .dataframe tbody tr th {\n",
       "        vertical-align: top;\n",
       "    }\n",
       "\n",
       "    .dataframe thead th {\n",
       "        text-align: right;\n",
       "    }\n",
       "</style>\n",
       "<table border=\"1\" class=\"dataframe\">\n",
       "  <thead>\n",
       "    <tr style=\"text-align: right;\">\n",
       "      <th></th>\n",
       "      <th>lp__</th>\n",
       "      <th>accept_stat__</th>\n",
       "      <th>mi</th>\n",
       "      <th>sigma</th>\n",
       "      <th>prize_sim</th>\n",
       "    </tr>\n",
       "  </thead>\n",
       "  <tbody>\n",
       "    <tr>\n",
       "      <th>0</th>\n",
       "      <td>0.0</td>\n",
       "      <td>0.0</td>\n",
       "      <td>62081.7</td>\n",
       "      <td>200.116</td>\n",
       "      <td>62069.0</td>\n",
       "    </tr>\n",
       "    <tr>\n",
       "      <th>1</th>\n",
       "      <td>0.0</td>\n",
       "      <td>0.0</td>\n",
       "      <td>22277.3</td>\n",
       "      <td>197.602</td>\n",
       "      <td>22112.5</td>\n",
       "    </tr>\n",
       "    <tr>\n",
       "      <th>2</th>\n",
       "      <td>0.0</td>\n",
       "      <td>0.0</td>\n",
       "      <td>58984.2</td>\n",
       "      <td>201.685</td>\n",
       "      <td>58911.1</td>\n",
       "    </tr>\n",
       "    <tr>\n",
       "      <th>3</th>\n",
       "      <td>0.0</td>\n",
       "      <td>0.0</td>\n",
       "      <td>42434.9</td>\n",
       "      <td>201.320</td>\n",
       "      <td>42642.4</td>\n",
       "    </tr>\n",
       "    <tr>\n",
       "      <th>4</th>\n",
       "      <td>0.0</td>\n",
       "      <td>0.0</td>\n",
       "      <td>25982.0</td>\n",
       "      <td>202.496</td>\n",
       "      <td>25977.5</td>\n",
       "    </tr>\n",
       "  </tbody>\n",
       "</table>\n",
       "</div>"
      ],
      "text/plain": [
       "   lp__  accept_stat__       mi    sigma  prize_sim\n",
       "0   0.0            0.0  62081.7  200.116    62069.0\n",
       "1   0.0            0.0  22277.3  197.602    22112.5\n",
       "2   0.0            0.0  58984.2  201.685    58911.1\n",
       "3   0.0            0.0  42434.9  201.320    42642.4\n",
       "4   0.0            0.0  25982.0  202.496    25977.5"
      ]
     },
     "execution_count": 39,
     "metadata": {},
     "output_type": "execute_result"
    }
   ],
   "source": [
    "sim_pd = sim.draws_pd()\n",
    "sim_pd.head()"
   ]
  },
  {
   "cell_type": "code",
   "execution_count": 40,
   "metadata": {},
   "outputs": [
    {
     "data": {
      "image/png": "[encoded data removed]",
      "text/plain": [
       "<Figure size 432x288 with 1 Axes>"
      ]
     },
     "metadata": {
      "needs_background": "light"
     },
     "output_type": "display_data"
    }
   ],
   "source": [
    "plt.figure()\n",
    "plt.hist(sim_pd['prize_sim'].values, bins = 20, alpha = 0.5, density = True, label = 'Sim prices')\n",
    "plt.hist(audi_a3_2000ccm['Price'].values, bins = 20, alpha = 0.5, density = True, label = 'Data prices')\n",
    "plt.legend()\n",
    "plt.show()"
   ]
  },
  {
   "cell_type": "code",
   "execution_count": 26,
   "metadata": {},
   "outputs": [
    {
     "name": "stderr",
     "output_type": "stream",
     "text": [
      "INFO:cmdstanpy:found newer exe file, not recompiling\n"
     ]
    }
   ],
   "source": [
    "import pandas as pd\n",
    "import cmdstanpy\n",
    "\n",
    "\n",
    "model = cmdstanpy.CmdStanModel(stan_file='car_price_1_ppc.stan')"
   ]
  },
  {
   "cell_type": "code",
   "execution_count": null,
   "metadata": {},
   "outputs": [
    {
     "name": "stderr",
     "output_type": "stream",
     "text": [
      "INFO:cmdstanpy:CmdStan start processing\n",
      "chain 1 |\u001b[33m          \u001b[0m| 00:00 Status\n",
      "\u001b[A\n",
      "\n",
      "\u001b[A\u001b[AERROR:cmdstanpy:Chain [2] error: error during processing Operation not permitted\n",
      "ERROR:cmdstanpy:Chain [1] error: error during processing Operation not permitted\n",
      "ERROR:cmdstanpy:Chain [3] error: error during processing Operation not permitted\n",
      "ERROR:cmdstanpy:Chain [4] error: error during processing Operation not permitted\n",
      "chain 1 |\u001b[33m██████████\u001b[0m| 00:00 Sampling completed\n",
      "chain 2 |\u001b[33m██████████\u001b[0m| 00:00 Sampling completed\n",
      "\n",
      "chain 3 |\u001b[33m██████████\u001b[0m| 00:00 Sampling completed\n",
      "\n",
      "\n",
      "chain 4 |\u001b[33m██████████\u001b[0m| 00:00 Sampling completed"
     ]
    },
    {
     "name": "stdout",
     "output_type": "stream",
     "text": [
      "                                                                                                                                                                                                                                                                                                                                "
     ]
    },
    {
     "name": "stderr",
     "output_type": "stream",
     "text": [
      "\n",
      "INFO:cmdstanpy:CmdStan done processing.\n"
     ]
    },
    {
     "name": "stdout",
     "output_type": "stream",
     "text": [
      "\n"
     ]
    },
    {
     "ename": "RuntimeError",
     "evalue": "Error during sampling:\nException: variable does not exist; processing stage=data initialization; variable name=N; base type=int (in '/home/DA/project/car_price_1_ppc.stan', line 2, column 4 to column 19)\nException: variable does not exist; processing stage=data initialization; variable name=N; base type=int (in '/home/DA/project/car_price_1_ppc.stan', line 2, column 4 to column 19)\nException: variable does not exist; processing stage=data initialization; variable name=N; base type=int (in '/home/DA/project/car_price_1_ppc.stan', line 2, column 4 to column 19)\nException: variable does not exist; processing stage=data initialization; variable name=N; base type=int (in '/home/DA/project/car_price_1_ppc.stan', line 2, column 4 to column 19)Command and output files:\nRunSet: chains=4, chain_ids=[1, 2, 3, 4], num_processes=4\n cmd (chain 1):\n\t['/home/DA/project/car_price_1_ppc', 'id=1', 'random', 'seed=29042020', 'output', 'file=/tmp/tmpvgi6ygtb/car_price_1_ppc-20230630181115_1.csv', 'refresh=1000', 'method=sample', 'num_samples=1000', 'num_warmup=0', 'algorithm=fixed_param']\n retcodes=[1, 1, 1, 1]\n per-chain output files (showing chain 1 only):\n csv_file:\n\t/tmp/tmpvgi6ygtb/car_price_1_ppc-20230630181115_1.csv\n console_msgs (if any):\n\t/tmp/tmpvgi6ygtb/car_price_1_ppc-20230630181115_0-stdout.txt",
     "output_type": "error",
     "traceback": [
      "\u001b[0;31m---------------------------------------------------------------------------\u001b[0m",
      "\u001b[0;31mRuntimeError\u001b[0m                              Traceback (most recent call last)",
      "\u001b[1;32m/home/DA/project/project.ipynb Cell 14\u001b[0m in \u001b[0;36m<cell line: 2>\u001b[0;34m()\u001b[0m\n\u001b[1;32m      <a href='vscode-notebook-cell://attached-container%2B7b22636f6e7461696e65724e616d65223a222f6c6162325f636f6e7461696e657231227d/home/DA/project/project.ipynb#X16sdnNjb2RlLXJlbW90ZQ%3D%3D?line=0'>1</a>\u001b[0m R \u001b[39m=\u001b[39m \u001b[39m1000\u001b[39m\n\u001b[0;32m----> <a href='vscode-notebook-cell://attached-container%2B7b22636f6e7461696e65724e616d65223a222f6c6162325f636f6e7461696e657231227d/home/DA/project/project.ipynb#X16sdnNjb2RlLXJlbW90ZQ%3D%3D?line=1'>2</a>\u001b[0m sim\u001b[39m=\u001b[39mmodel\u001b[39m.\u001b[39;49msample(iter_sampling\u001b[39m=\u001b[39;49mR,\n\u001b[1;32m      <a href='vscode-notebook-cell://attached-container%2B7b22636f6e7461696e65724e616d65223a222f6c6162325f636f6e7461696e657231227d/home/DA/project/project.ipynb#X16sdnNjb2RlLXJlbW90ZQ%3D%3D?line=2'>3</a>\u001b[0m                      iter_warmup\u001b[39m=\u001b[39;49m\u001b[39m0\u001b[39;49m,\n\u001b[1;32m      <a href='vscode-notebook-cell://attached-container%2B7b22636f6e7461696e65724e616d65223a222f6c6162325f636f6e7461696e657231227d/home/DA/project/project.ipynb#X16sdnNjb2RlLXJlbW90ZQ%3D%3D?line=3'>4</a>\u001b[0m                      chains\u001b[39m=\u001b[39;49m\u001b[39m4\u001b[39;49m,\n\u001b[1;32m      <a href='vscode-notebook-cell://attached-container%2B7b22636f6e7461696e65724e616d65223a222f6c6162325f636f6e7461696e657231227d/home/DA/project/project.ipynb#X16sdnNjb2RlLXJlbW90ZQ%3D%3D?line=4'>5</a>\u001b[0m                      fixed_param\u001b[39m=\u001b[39;49m\u001b[39mTrue\u001b[39;49;00m,\n\u001b[1;32m      <a href='vscode-notebook-cell://attached-container%2B7b22636f6e7461696e65724e616d65223a222f6c6162325f636f6e7461696e657231227d/home/DA/project/project.ipynb#X16sdnNjb2RlLXJlbW90ZQ%3D%3D?line=5'>6</a>\u001b[0m                      seed\u001b[39m=\u001b[39;49m\u001b[39m29042020\u001b[39;49m,refresh\u001b[39m=\u001b[39;49mR)\n",
      "File \u001b[0;32m/usr/local/lib/python3.9/site-packages/cmdstanpy/model.py:1089\u001b[0m, in \u001b[0;36mCmdStanModel.sample\u001b[0;34m(self, data, chains, parallel_chains, threads_per_chain, seed, chain_ids, inits, iter_warmup, iter_sampling, save_warmup, thin, max_treedepth, metric, step_size, adapt_engaged, adapt_delta, adapt_init_phase, adapt_metric_window, adapt_step_size, fixed_param, output_dir, sig_figs, save_latent_dynamics, save_profile, show_progress, show_console, refresh, time_fmt, force_one_process_per_chain)\u001b[0m\n\u001b[1;32m   1085\u001b[0m         msg \u001b[39m=\u001b[39m \u001b[39m'\u001b[39m\u001b[39mError during sampling:\u001b[39m\u001b[39m\\n\u001b[39;00m\u001b[39m{}\u001b[39;00m\u001b[39m'\u001b[39m\u001b[39m.\u001b[39mformat(runset\u001b[39m.\u001b[39mget_err_msgs())\n\u001b[1;32m   1086\u001b[0m         msg \u001b[39m=\u001b[39m \u001b[39m'\u001b[39m\u001b[39m{}\u001b[39;00m\u001b[39mCommand and output files:\u001b[39m\u001b[39m\\n\u001b[39;00m\u001b[39m{}\u001b[39;00m\u001b[39m'\u001b[39m\u001b[39m.\u001b[39mformat(\n\u001b[1;32m   1087\u001b[0m             msg, runset\u001b[39m.\u001b[39m\u001b[39m__repr__\u001b[39m()\n\u001b[1;32m   1088\u001b[0m         )\n\u001b[0;32m-> 1089\u001b[0m         \u001b[39mraise\u001b[39;00m \u001b[39mRuntimeError\u001b[39;00m(msg)\n\u001b[1;32m   1091\u001b[0m     mcmc \u001b[39m=\u001b[39m CmdStanMCMC(runset)\n\u001b[1;32m   1092\u001b[0m \u001b[39mreturn\u001b[39;00m mcmc\n",
      "\u001b[0;31mRuntimeError\u001b[0m: Error during sampling:\nException: variable does not exist; processing stage=data initialization; variable name=N; base type=int (in '/home/DA/project/car_price_1_ppc.stan', line 2, column 4 to column 19)\nException: variable does not exist; processing stage=data initialization; variable name=N; base type=int (in '/home/DA/project/car_price_1_ppc.stan', line 2, column 4 to column 19)\nException: variable does not exist; processing stage=data initialization; variable name=N; base type=int (in '/home/DA/project/car_price_1_ppc.stan', line 2, column 4 to column 19)\nException: variable does not exist; processing stage=data initialization; variable name=N; base type=int (in '/home/DA/project/car_price_1_ppc.stan', line 2, column 4 to column 19)Command and output files:\nRunSet: chains=4, chain_ids=[1, 2, 3, 4], num_processes=4\n cmd (chain 1):\n\t['/home/DA/project/car_price_1_ppc', 'id=1', 'random', 'seed=29042020', 'output', 'file=/tmp/tmpvgi6ygtb/car_price_1_ppc-20230630181115_1.csv', 'refresh=1000', 'method=sample', 'num_samples=1000', 'num_warmup=0', 'algorithm=fixed_param']\n retcodes=[1, 1, 1, 1]\n per-chain output files (showing chain 1 only):\n csv_file:\n\t/tmp/tmpvgi6ygtb/car_price_1_ppc-20230630181115_1.csv\n console_msgs (if any):\n\t/tmp/tmpvgi6ygtb/car_price_1_ppc-20230630181115_0-stdout.txt"
     ]
    }
   ],
   "source": [
    "R = 1000\n",
    "sim=model.sample(iter_sampling=R,\n",
    "                     iter_warmup=0,\n",
    "                     chains=4,\n",
    "                     fixed_param=True,\n",
    "                     seed=29042020,refresh=R)"
   ]
  },
  {
   "cell_type": "code",
   "execution_count": null,
   "metadata": {},
   "outputs": [
    {
     "name": "stderr",
     "output_type": "stream",
     "text": [
      "10:22:58 - cmdstanpy - INFO - CmdStan start processing\n",
      "chain 1 |\u001b[33m          \u001b[0m| 00:00 Status\n",
      "\u001b[A\n",
      "\n",
      "chain 1 |\u001b[33m▎         \u001b[0m| 00:00 Status\n",
      "\u001b[A\n",
      "\n",
      "chain 1 |\u001b[33m▋         \u001b[0m| 00:00 Iteration:    1 / 3000 [  0%]  (Warmup)\n",
      "\n",
      "chain 1 |\u001b[33m▉         \u001b[0m| 00:00 Iteration:  100 / 3000 [  3%]  (Warmup)\n",
      "\u001b[A\n",
      "\n",
      "chain 1 |\u001b[33m█▎        \u001b[0m| 00:03 Iteration:  200 / 3000 [  6%]  (Warmup)\n",
      "\u001b[A\n",
      "\n",
      "chain 1 |\u001b[33m█▌        \u001b[0m| 00:05 Iteration:  300 / 3000 [ 10%]  (Warmup)\n",
      "\u001b[A\n",
      "\n",
      "\u001b[A\u001b[A\n",
      "\u001b[A\n",
      "chain 1 |\u001b[33m█▉        \u001b[0m| 00:07 Iteration:  400 / 3000 [ 13%]  (Warmup)\n",
      "chain 1 |\u001b[33m██▏       \u001b[0m| 00:07 Iteration:  500 / 3000 [ 16%]  (Warmup)\n",
      "\n",
      "\u001b[A\u001b[A\n",
      "chain 1 |\u001b[33m██▊       \u001b[0m| 00:08 Iteration:  700 / 3000 [ 23%]  (Warmup)\n",
      "chain 1 |\u001b[33m███▏      \u001b[0m| 00:08 Iteration:  800 / 3000 [ 26%]  (Warmup)\n",
      "chain 1 |\u001b[34m████      \u001b[0m| 00:08 Iteration: 1001 / 3000 [ 33%]  (Sampling)\n",
      "\n",
      "chain 1 |\u001b[34m████▍     \u001b[0m| 00:09 Iteration: 1100 / 3000 [ 36%]  (Sampling)\n",
      "chain 1 |\u001b[34m████▋     \u001b[0m| 00:10 Iteration: 1200 / 3000 [ 40%]  (Sampling)\n",
      "chain 1 |\u001b[34m█████▎    \u001b[0m| 00:11 Iteration: 1400 / 3000 [ 46%]  (Sampling)\n",
      "\u001b[A\n",
      "\n",
      "chain 1 |\u001b[34m█████▋    \u001b[0m| 00:11 Iteration: 1500 / 3000 [ 50%]  (Sampling)\n",
      "chain 1 |\u001b[34m██████▌   \u001b[0m| 00:13 Iteration: 1800 / 3000 [ 60%]  (Sampling)\n",
      "\u001b[A\n",
      "\n",
      "chain 1 |\u001b[34m██████▉   \u001b[0m| 00:13 Iteration: 1900 / 3000 [ 63%]  (Sampling)\n",
      "chain 1 |\u001b[34m███████▏  \u001b[0m| 00:14 Iteration: 2000 / 3000 [ 66%]  (Sampling)\n",
      "\n",
      "chain 1 |\u001b[34m███████▌  \u001b[0m| 00:15 Iteration: 2100 / 3000 [ 70%]  (Sampling)\n",
      "\n",
      "\u001b[A\u001b[A\n",
      "\u001b[A\n",
      "\n",
      "\u001b[A\u001b[A\n",
      "\n",
      "chain 1 |\u001b[34m███████▊  \u001b[0m| 00:15 Iteration: 2200 / 3000 [ 73%]  (Sampling)\n",
      "\n",
      "chain 1 |\u001b[34m████████▏ \u001b[0m| 00:16 Iteration: 2300 / 3000 [ 76%]  (Sampling)\n",
      "chain 1 |\u001b[34m████████▊ \u001b[0m| 00:17 Iteration: 2500 / 3000 [ 83%]  (Sampling)\n",
      "\u001b[A\n",
      "\n",
      "chain 1 |\u001b[34m█████████ \u001b[0m| 00:17 Iteration: 2600 / 3000 [ 86%]  (Sampling)\n",
      "chain 1 |\u001b[34m█████████▍\u001b[0m| 00:18 Iteration: 2700 / 3000 [ 90%]  (Sampling)\n",
      "\u001b[A\n",
      "\n",
      "chain 1 |\u001b[34m██████████\u001b[0m| 00:19 Iteration: 2900 / 3000 [ 96%]  (Sampling)\n",
      "\u001b[A\n",
      "\u001b[A\n",
      "\n",
      "\u001b[A\u001b[A\n",
      "\u001b[A\n",
      "\n",
      "\u001b[A\u001b[A\n",
      "\u001b[A\n",
      "\u001b[A\n",
      "\n",
      "\u001b[A\u001b[A\n",
      "\u001b[A\n",
      "\u001b[A\n",
      "\n",
      "\u001b[A\u001b[A\n",
      "\u001b[A\n",
      "\n",
      "\u001b[A\u001b[A\n",
      "\u001b[A\n",
      "\n",
      "\u001b[A\u001b[A\n",
      "\n",
      "\u001b[A\u001b[A\n",
      "\n",
      "\u001b[A\u001b[A\n",
      "\n",
      "\u001b[A\u001b[A\n",
      "\n",
      "\u001b[A\u001b[A\n",
      "\n",
      "\u001b[A\u001b[A\n",
      "\n",
      "\u001b[A\u001b[A\n",
      "\n",
      "\u001b[A\u001b[A\n",
      "\n",
      "chain 1 |\u001b[34m██████████\u001b[0m| 00:40 Sampling completed                       \n",
      "chain 2 |\u001b[34m██████████\u001b[0m| 00:40 Sampling completed                       \n",
      "chain 3 |\u001b[34m██████████\u001b[0m| 00:40 Sampling completed                       \n",
      "chain 4 |\u001b[34m██████████\u001b[0m| 00:40 Sampling completed                       "
     ]
    },
    {
     "name": "stdout",
     "output_type": "stream",
     "text": [
      "                                                                                                                                                                                                                                                                                                                                "
     ]
    },
    {
     "name": "stderr",
     "output_type": "stream",
     "text": [
      "\n",
      "10:23:38 - cmdstanpy - INFO - CmdStan done processing.\n"
     ]
    },
    {
     "name": "stdout",
     "output_type": "stream",
     "text": [
      "\n"
     ]
    },
    {
     "name": "stderr",
     "output_type": "stream",
     "text": [
      "10:23:38 - cmdstanpy - WARNING - Some chains may have failed to converge.\n",
      "\tChain 2 had 238 iterations at max treedepth (11.9%)\n",
      "\tChain 4 had 23 iterations at max treedepth (1.1%)\n",
      "\tUse function \"diagnose()\" to see further information.\n"
     ]
    }
   ],
   "source": [
    "data = {\n",
    "    'N': len(audi_a3_2000ccm),\n",
    "    'x1': audi_a3_2000ccm['Mileage_km'].values,\n",
    "    'x2': audi_a3_2000ccm['Production_year'].values,\n",
    "    'y': audi_a3_2000ccm['Price'].values\n",
    "}\n",
    "\n",
    "model_fit = cmdstanpy.CmdStanModel(stan_file='car_price_1_fit.stan')\n",
    "fit = model_fit.sample(data=data, chains=4, iter_warmup=1000, iter_sampling=2000)\n"
   ]
  },
  {
   "cell_type": "code",
   "execution_count": null,
   "metadata": {},
   "outputs": [],
   "source": [
    "fit_pd = fit.draws_pd()\n",
    "fit_pd"
   ]
  },
  {
   "cell_type": "code",
   "execution_count": null,
   "metadata": {},
   "outputs": [],
   "source": [
    "prices = fit_pd.loc[:, 'y_generated[1]':'y_generated[532]'].values"
   ]
  },
  {
   "cell_type": "code",
   "execution_count": null,
   "metadata": {},
   "outputs": [],
   "source": [
    "plt.figure()\n",
    "for i in range(1, 100, 10):\n",
    "    plt.hist(prices[i], bins = 20, alpha = 0.5, density = True, label = f'Simulated prices {i}')\n",
    "plt.hist(audi_a3_2000ccm['Price'].values, bins = 20, alpha = 0.5, density = True, label = 'Data prices')\n",
    "plt.legend()\n",
    "plt.title('Comparision of data and simulated prices')\n",
    "plt.show()"
   ]
  }
 ],
 "metadata": {
  "kernelspec": {
   "display_name": "Python 3",
   "language": "python",
   "name": "python3"
  },
  "language_info": {
   "codemirror_mode": {
    "name": "ipython",
    "version": 3
   },
   "file_extension": ".py",
   "mimetype": "text/x-python",
   "name": "python",
   "nbconvert_exporter": "python",
   "pygments_lexer": "ipython3",
   "version": "3.9.11"
  },
  "orig_nbformat": 4
 },
 "nbformat": 4,
 "nbformat_minor": 2
}
