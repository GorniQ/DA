{
 "cells": [
  {
   "cell_type": "markdown",
   "metadata": {},
   "source": [
    "# 1. Problem formulation:"
   ]
  },
  {
   "cell_type": "markdown",
   "metadata": {},
   "source": [
    "Opis problemu"
   ]
  },
  {
   "cell_type": "code",
   "execution_count": 7,
   "metadata": {},
   "outputs": [],
   "source": [
    "import pandas as pd\n",
    "import numpy as np\n",
    "import matplotlib.pyplot as plt\n",
    "import arviz as az\n",
    "import seaborn as sns\n",
    "import cmdstanpy\n",
    "\n",
    "BINS = 20"
   ]
  },
  {
   "cell_type": "code",
   "execution_count": 8,
   "metadata": {},
   "outputs": [
    {
     "data": {
      "text/html": [
       "<div>\n",
       "<style scoped>\n",
       "    .dataframe tbody tr th:only-of-type {\n",
       "        vertical-align: middle;\n",
       "    }\n",
       "\n",
       "    .dataframe tbody tr th {\n",
       "        vertical-align: top;\n",
       "    }\n",
       "\n",
       "    .dataframe thead th {\n",
       "        text-align: right;\n",
       "    }\n",
       "</style>\n",
       "<table border=\"1\" class=\"dataframe\">\n",
       "  <thead>\n",
       "    <tr style=\"text-align: right;\">\n",
       "      <th></th>\n",
       "      <th>Price</th>\n",
       "      <th>Production_year</th>\n",
       "      <th>Mileage_km</th>\n",
       "    </tr>\n",
       "  </thead>\n",
       "  <tbody>\n",
       "    <tr>\n",
       "      <th>0</th>\n",
       "      <td>0.190769</td>\n",
       "      <td>0.739130</td>\n",
       "      <td>0.472726</td>\n",
       "    </tr>\n",
       "    <tr>\n",
       "      <th>1</th>\n",
       "      <td>0.037814</td>\n",
       "      <td>0.434783</td>\n",
       "      <td>0.515908</td>\n",
       "    </tr>\n",
       "    <tr>\n",
       "      <th>2</th>\n",
       "      <td>0.071804</td>\n",
       "      <td>0.434783</td>\n",
       "      <td>0.713306</td>\n",
       "    </tr>\n",
       "    <tr>\n",
       "      <th>3</th>\n",
       "      <td>0.063306</td>\n",
       "      <td>0.391304</td>\n",
       "      <td>0.549999</td>\n",
       "    </tr>\n",
       "    <tr>\n",
       "      <th>4</th>\n",
       "      <td>0.076053</td>\n",
       "      <td>0.347826</td>\n",
       "      <td>0.545454</td>\n",
       "    </tr>\n",
       "  </tbody>\n",
       "</table>\n",
       "</div>"
      ],
      "text/plain": [
       "      Price  Production_year  Mileage_km\n",
       "0  0.190769         0.739130    0.472726\n",
       "1  0.037814         0.434783    0.515908\n",
       "2  0.071804         0.434783    0.713306\n",
       "3  0.063306         0.391304    0.549999\n",
       "4  0.076053         0.347826    0.545454"
      ]
     },
     "execution_count": 8,
     "metadata": {},
     "output_type": "execute_result"
    }
   ],
   "source": [
    "audi_a3_2000ccm_standarized = pd.read_csv(\"data/audi_data_standarized.csv\")\n",
    "audi_a3_2000ccm_standarized.head()"
   ]
  },
  {
   "cell_type": "markdown",
   "metadata": {},
   "source": [
    "# 2. Model"
   ]
  },
  {
   "cell_type": "markdown",
   "metadata": {},
   "source": [
    "Opis modeli"
   ]
  },
  {
   "cell_type": "markdown",
   "metadata": {},
   "source": [
    "## 2.1 Model 1- prior"
   ]
  },
  {
   "cell_type": "code",
   "execution_count": 11,
   "metadata": {},
   "outputs": [
    {
     "name": "stderr",
     "output_type": "stream",
     "text": [
      "22:29:17 - cmdstanpy - INFO - compiling stan file /home/car_prices_pr/DA/project/stan_files/exp_model_ppc.stan to exe file /home/car_prices_pr/DA/project/stan_files/exp_model_ppc\n",
      "22:29:30 - cmdstanpy - INFO - compiled model executable: /home/car_prices_pr/DA/project/stan_files/exp_model_ppc\n",
      "22:29:30 - cmdstanpy - INFO - CmdStan start processing\n",
      "chain 1 |\u001b[33m          \u001b[0m| 00:00 Status\n",
      "\u001b[A\n",
      "\n",
      "\u001b[A\u001b[A\n",
      "chain 1 |\u001b[34m▉         \u001b[0m| 00:00 Iteration:   1 / 1000 [  0%]  (Sampling)\n",
      "\n",
      "\u001b[A\u001b[A\n",
      "chain 1 |\u001b[34m██▎       \u001b[0m| 00:00 Iteration: 300 / 1000 [ 30%]  (Sampling)\n",
      "\n",
      "\u001b[A\u001b[A\n",
      "chain 1 |\u001b[34m███▋      \u001b[0m| 00:00 Iteration: 600 / 1000 [ 60%]  (Sampling)\n",
      "\n",
      "\u001b[A\u001b[A\n",
      "chain 1 |\u001b[34m██████████\u001b[0m| 00:00 Sampling completed                      \n",
      "chain 2 |\u001b[34m██████████\u001b[0m| 00:00 Sampling completed                      \n",
      "chain 3 |\u001b[34m██████████\u001b[0m| 00:00 Sampling completed                      \n",
      "\n",
      "\n",
      "chain 4 |\u001b[34m██████████\u001b[0m| 00:00 Sampling completed"
     ]
    },
    {
     "name": "stdout",
     "output_type": "stream",
     "text": [
      "                                                                                                                                                                                                                                                                                                                                "
     ]
    },
    {
     "name": "stderr",
     "output_type": "stream",
     "text": [
      "\n",
      "22:29:31 - cmdstanpy - INFO - CmdStan done processing.\n"
     ]
    },
    {
     "name": "stdout",
     "output_type": "stream",
     "text": [
      "\n"
     ]
    },
    {
     "data": {
      "text/html": [
       "<div>\n",
       "<style scoped>\n",
       "    .dataframe tbody tr th:only-of-type {\n",
       "        vertical-align: middle;\n",
       "    }\n",
       "\n",
       "    .dataframe tbody tr th {\n",
       "        vertical-align: top;\n",
       "    }\n",
       "\n",
       "    .dataframe thead th {\n",
       "        text-align: right;\n",
       "    }\n",
       "</style>\n",
       "<table border=\"1\" class=\"dataframe\">\n",
       "  <thead>\n",
       "    <tr style=\"text-align: right;\">\n",
       "      <th></th>\n",
       "      <th>lp__</th>\n",
       "      <th>accept_stat__</th>\n",
       "      <th>price[1]</th>\n",
       "      <th>price[2]</th>\n",
       "      <th>price[3]</th>\n",
       "      <th>price[4]</th>\n",
       "      <th>price[5]</th>\n",
       "      <th>price[6]</th>\n",
       "      <th>price[7]</th>\n",
       "      <th>price[8]</th>\n",
       "      <th>...</th>\n",
       "      <th>price[528]</th>\n",
       "      <th>price[529]</th>\n",
       "      <th>price[530]</th>\n",
       "      <th>price[531]</th>\n",
       "      <th>price[532]</th>\n",
       "      <th>alpha</th>\n",
       "      <th>beta1</th>\n",
       "      <th>beta2</th>\n",
       "      <th>sigma</th>\n",
       "      <th>lambda</th>\n",
       "    </tr>\n",
       "  </thead>\n",
       "  <tbody>\n",
       "    <tr>\n",
       "      <th>0</th>\n",
       "      <td>0.0</td>\n",
       "      <td>0.0</td>\n",
       "      <td>0.333059</td>\n",
       "      <td>0.020696</td>\n",
       "      <td>0.028259</td>\n",
       "      <td>0.075179</td>\n",
       "      <td>0.153765</td>\n",
       "      <td>0.228860</td>\n",
       "      <td>0.436884</td>\n",
       "      <td>0.209828</td>\n",
       "      <td>...</td>\n",
       "      <td>0.288557</td>\n",
       "      <td>0.006357</td>\n",
       "      <td>0.188783</td>\n",
       "      <td>0.255531</td>\n",
       "      <td>0.054294</td>\n",
       "      <td>0.149251</td>\n",
       "      <td>0.367891</td>\n",
       "      <td>0.349214</td>\n",
       "      <td>0.137343</td>\n",
       "      <td>0.025106</td>\n",
       "    </tr>\n",
       "    <tr>\n",
       "      <th>1</th>\n",
       "      <td>0.0</td>\n",
       "      <td>0.0</td>\n",
       "      <td>0.160553</td>\n",
       "      <td>0.028804</td>\n",
       "      <td>0.006749</td>\n",
       "      <td>0.178111</td>\n",
       "      <td>0.204003</td>\n",
       "      <td>0.185724</td>\n",
       "      <td>0.237900</td>\n",
       "      <td>0.092274</td>\n",
       "      <td>...</td>\n",
       "      <td>0.546984</td>\n",
       "      <td>0.023141</td>\n",
       "      <td>0.037663</td>\n",
       "      <td>0.108242</td>\n",
       "      <td>0.180061</td>\n",
       "      <td>0.157481</td>\n",
       "      <td>0.362870</td>\n",
       "      <td>0.343691</td>\n",
       "      <td>0.143618</td>\n",
       "      <td>0.025009</td>\n",
       "    </tr>\n",
       "    <tr>\n",
       "      <th>2</th>\n",
       "      <td>0.0</td>\n",
       "      <td>0.0</td>\n",
       "      <td>0.277915</td>\n",
       "      <td>0.394002</td>\n",
       "      <td>0.111498</td>\n",
       "      <td>0.032696</td>\n",
       "      <td>0.042781</td>\n",
       "      <td>0.240747</td>\n",
       "      <td>0.007288</td>\n",
       "      <td>0.119051</td>\n",
       "      <td>...</td>\n",
       "      <td>0.011128</td>\n",
       "      <td>0.079268</td>\n",
       "      <td>0.047960</td>\n",
       "      <td>0.551215</td>\n",
       "      <td>0.068389</td>\n",
       "      <td>0.185790</td>\n",
       "      <td>0.382725</td>\n",
       "      <td>0.326718</td>\n",
       "      <td>0.183012</td>\n",
       "      <td>0.025012</td>\n",
       "    </tr>\n",
       "    <tr>\n",
       "      <th>3</th>\n",
       "      <td>0.0</td>\n",
       "      <td>0.0</td>\n",
       "      <td>0.199307</td>\n",
       "      <td>0.013031</td>\n",
       "      <td>0.081660</td>\n",
       "      <td>0.011918</td>\n",
       "      <td>0.275893</td>\n",
       "      <td>0.183084</td>\n",
       "      <td>0.047084</td>\n",
       "      <td>0.071271</td>\n",
       "      <td>...</td>\n",
       "      <td>0.001062</td>\n",
       "      <td>0.153002</td>\n",
       "      <td>0.113263</td>\n",
       "      <td>0.128430</td>\n",
       "      <td>0.005100</td>\n",
       "      <td>0.164693</td>\n",
       "      <td>0.335844</td>\n",
       "      <td>0.360748</td>\n",
       "      <td>0.112136</td>\n",
       "      <td>0.025225</td>\n",
       "    </tr>\n",
       "    <tr>\n",
       "      <th>4</th>\n",
       "      <td>0.0</td>\n",
       "      <td>0.0</td>\n",
       "      <td>0.038339</td>\n",
       "      <td>0.231577</td>\n",
       "      <td>0.248154</td>\n",
       "      <td>0.638891</td>\n",
       "      <td>0.207656</td>\n",
       "      <td>0.028660</td>\n",
       "      <td>0.373307</td>\n",
       "      <td>0.083261</td>\n",
       "      <td>...</td>\n",
       "      <td>0.028259</td>\n",
       "      <td>0.048509</td>\n",
       "      <td>0.183555</td>\n",
       "      <td>0.049525</td>\n",
       "      <td>0.031366</td>\n",
       "      <td>0.136084</td>\n",
       "      <td>0.348524</td>\n",
       "      <td>0.394592</td>\n",
       "      <td>0.121109</td>\n",
       "      <td>0.024875</td>\n",
       "    </tr>\n",
       "  </tbody>\n",
       "</table>\n",
       "<p>5 rows × 539 columns</p>\n",
       "</div>"
      ],
      "text/plain": [
       "   lp__  accept_stat__  price[1]  price[2]  price[3]  price[4]  price[5]  \\\n",
       "0   0.0            0.0  0.333059  0.020696  0.028259  0.075179  0.153765   \n",
       "1   0.0            0.0  0.160553  0.028804  0.006749  0.178111  0.204003   \n",
       "2   0.0            0.0  0.277915  0.394002  0.111498  0.032696  0.042781   \n",
       "3   0.0            0.0  0.199307  0.013031  0.081660  0.011918  0.275893   \n",
       "4   0.0            0.0  0.038339  0.231577  0.248154  0.638891  0.207656   \n",
       "\n",
       "   price[6]  price[7]  price[8]  ...  price[528]  price[529]  price[530]  \\\n",
       "0  0.228860  0.436884  0.209828  ...    0.288557    0.006357    0.188783   \n",
       "1  0.185724  0.237900  0.092274  ...    0.546984    0.023141    0.037663   \n",
       "2  0.240747  0.007288  0.119051  ...    0.011128    0.079268    0.047960   \n",
       "3  0.183084  0.047084  0.071271  ...    0.001062    0.153002    0.113263   \n",
       "4  0.028660  0.373307  0.083261  ...    0.028259    0.048509    0.183555   \n",
       "\n",
       "   price[531]  price[532]     alpha     beta1     beta2     sigma    lambda  \n",
       "0    0.255531    0.054294  0.149251  0.367891  0.349214  0.137343  0.025106  \n",
       "1    0.108242    0.180061  0.157481  0.362870  0.343691  0.143618  0.025009  \n",
       "2    0.551215    0.068389  0.185790  0.382725  0.326718  0.183012  0.025012  \n",
       "3    0.128430    0.005100  0.164693  0.335844  0.360748  0.112136  0.025225  \n",
       "4    0.049525    0.031366  0.136084  0.348524  0.394592  0.121109  0.024875  \n",
       "\n",
       "[5 rows x 539 columns]"
      ]
     },
     "execution_count": 11,
     "metadata": {},
     "output_type": "execute_result"
    }
   ],
   "source": [
    "model_exp_ppc = cmdstanpy.CmdStanModel(stan_file='stan_files/exp_model_ppc.stan')\n",
    "\n",
    "#Parameters\n",
    "N = 532\n",
    "mu_a =0.17\n",
    "sc_a =0.02\n",
    "mu_b1 = 0.36\n",
    "sig_b1 = 0.02\n",
    "mu_b2 = 0.36\n",
    "sig_b2 = 0.02\n",
    "\n",
    "data = {\"N\": N, \n",
    "        \"mileage\" : np.linspace(0.01,1,N),\n",
    "        \"production_year\" : np.linspace(0.01,1,N),\n",
    "        \"mu_a\" : mu_a,\n",
    "        \"sc_a\" : sc_a,\n",
    "        \"mu_b1\" : mu_b1,\n",
    "        \"mu_b2\" : mu_b2,\n",
    "        \"sig_b1\" : sig_b1,\n",
    "        \"sig_b2\" : sig_b2,\n",
    "        }\n",
    "\n",
    "\n",
    "sim_exp_ppc=model_exp_ppc.sample(data=data)\n",
    "sim_exp_ppc_pd = sim_exp_ppc.draws_pd()\n",
    "sim_exp_ppc_pd.head()"
   ]
  },
  {
   "cell_type": "code",
   "execution_count": 12,
   "metadata": {},
   "outputs": [
    {
     "data": {
      "image/png": "[encoded data removed]",
      "text/plain": [
       "<Figure size 1728x360 with 5 Axes>"
      ]
     },
     "metadata": {
      "needs_background": "light"
     },
     "output_type": "display_data"
    }
   ],
   "source": [
    "_, ax = plt.subplots(1, 5, figsize=(24, 5))\n",
    "ax = ax.flatten()\n",
    "sns.histplot(data=sim_exp_ppc_pd, x=\"alpha\", stat=\"density\", ax=ax[0], bins=BINS)\n",
    "sns.histplot(data=sim_exp_ppc_pd, x=\"beta1\", stat=\"density\", ax=ax[1], bins=BINS)\n",
    "sns.histplot(data=sim_exp_ppc_pd, x=\"beta2\", stat=\"density\", ax=ax[2], bins=BINS)\n",
    "sns.histplot(data=sim_exp_ppc_pd, x=\"price[1]\", stat=\"density\", ax=ax[3], bins=BINS)\n",
    "\n",
    "ax[4].hist(sim_exp_ppc_pd[\"price[1]\"], bins=BINS, alpha=0.5, density=True, label=\"Prior\")\n",
    "ax[4].hist(audi_a3_2000ccm_standarized[\"Price\"], bins=BINS, alpha=0.5, density=True, label=\"Model samples\")\n",
    "\n",
    "\n",
    "ax[0].grid(), \n",
    "ax[1].grid(), \n",
    "ax[2].grid(), \n",
    "ax[3].grid()\n",
    "\n",
    "ax[0].set_xlabel(\"alpha\"), \n",
    "ax[1].set_xlabel(\"beta1\"), \n",
    "ax[2].set_xlabel(\"beta2\"), \n",
    "ax[3].set_xlabel(\"Predicted prices\"), \n",
    "ax[4].set_xlabel(\"Predicted prices vs dataset prices\")\n",
    "\n",
    "ax[4].set_ylabel(\"Density\")\n",
    "ax[4].legend()\n",
    "plt.suptitle(\"Histograms\")\n",
    "plt.show()"
   ]
  },
  {
   "cell_type": "markdown",
   "metadata": {},
   "source": [
    "## 2.2 Model 1- posterior"
   ]
  },
  {
   "cell_type": "code",
   "execution_count": null,
   "metadata": {},
   "outputs": [],
   "source": []
  },
  {
   "cell_type": "markdown",
   "metadata": {},
   "source": [
    "## 2.3 Model 2- prior"
   ]
  },
  {
   "cell_type": "code",
   "execution_count": null,
   "metadata": {},
   "outputs": [],
   "source": []
  },
  {
   "cell_type": "markdown",
   "metadata": {},
   "source": [
    "## 2.4 Model 2- posterior"
   ]
  },
  {
   "cell_type": "code",
   "execution_count": null,
   "metadata": {},
   "outputs": [],
   "source": []
  },
  {
   "cell_type": "markdown",
   "metadata": {},
   "source": [
    "# 3. Model comparison"
   ]
  }
 ],
 "metadata": {
  "kernelspec": {
   "display_name": "Python 3",
   "language": "python",
   "name": "python3"
  },
  "language_info": {
   "codemirror_mode": {
    "name": "ipython",
    "version": 3
   },
   "file_extension": ".py",
   "mimetype": "text/x-python",
   "name": "python",
   "nbconvert_exporter": "python",
   "pygments_lexer": "ipython3",
   "version": "3.9.11"
  },
  "orig_nbformat": 4
 },
 "nbformat": 4,
 "nbformat_minor": 2
}
